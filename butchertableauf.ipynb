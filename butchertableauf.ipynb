{
 "cells": [
  {
   "cell_type": "markdown",
   "metadata": {},
   "source": [
    "# Butcher Tableau\n",
    "\n",
    "##### Calculates the Butcher Tableau for a given order.\n",
    "\n",
    "##### Calculates A, B, and C for a given order and method. \n",
    "\n",
    "##### This class calculates the transformation matrix, T, and its respective inverse. (However small errors may exist in the method used)\n",
    "\n",
    "##### It can also calculate the interpolator coefficients, P, for a cubic polynomial spline.\n",
    "\n",
    "# Example\n",
    "\n",
    "\n",
    "\n",
    "\n",
    "```python \n",
    "import butchertableau as bt\n",
    "order = 5\n",
    "X = butcher(order, 15)\n",
    "A, B, C = X.radau() \n",
    "Ainv = X.inv(A) \n",
    "T, TI = X.Tmat(Ainv) \n",
    "P = X.P(C)\n",
    "``` \n",
    "\n",
    "\n",
    "# Results\n",
    "\n",
    "\n"
   ]
  },
  {
   "cell_type": "markdown",
   "execution_count": 17,
   "metadata": {
    "tags": [
     "hide_input"
    ]
   },
   "outputs": [
    {
     "data": {
      "text/latex": [
       "$\\begin{equation} A  = \\begin{bmatrix} 0.19681547722366058, \\ -0.06553542585019845, \\ 0.023770974348220134, \\\\ 0.39442431473908746, \\ 0.29207341166522777, \\ -0.04154875212599763, \\\\ 0.376403062700466, \\ 0.512485826188424, \\ 0.111111111111110 \\end{bmatrix} \\end{equation}$"
      ],
      "text/plain": [
       "<IPython.core.display.Latex object>"
      ]
     },
     "metadata": {},
     "output_type": "display_data"
    },
    {
     "data": {
      "text/latex": [
       "$\\begin{equation} B = \\begin{bmatrix} 0.376403062700466, \\ 0.512485826188424, \\ 0.111111111111110  \\end{bmatrix} \\end{equation}$"
      ],
      "text/plain": [
       "<IPython.core.display.Latex object>"
      ]
     },
     "metadata": {},
     "output_type": "display_data"
    },
    {
     "data": {
      "text/latex": [
       "$\\begin{equation} C = \\begin{bmatrix} 0.15505102572168228, \\ 0.6449489742783174, \\ 1.0 \\end{bmatrix} \\end{equation}$"
      ],
      "text/plain": [
       "<IPython.core.display.Latex object>"
      ]
     },
     "metadata": {},
     "output_type": "display_data"
    },
    {
     "data": {
      "text/latex": [
       "$\\begin{equation} A^{-1} = \\begin{bmatrix} 3.22474487139158, \\ 1.16784008469041, \\ -0.253197264742181 \\\\ -3.56784008469039, \\ 0.775255128608406, \\ 1.05319726474218 \\\\ 5.53197264742194, \\ -7.53197264742187, \\ 5.00000000000001 \\end{bmatrix} \\end{equation}$"
      ],
      "text/plain": [
       "<IPython.core.display.Latex object>"
      ]
     },
     "metadata": {},
     "output_type": "display_data"
    },
    {
     "data": {
      "text/latex": [
       "$\\begin{equation} T = \\begin{bmatrix} 0.0944387624889745, \\ -0.141255295020953, \\ 0.0300291941051473 \\\\ 0.250213122965334, \\ 0.204129352293798, \\ -0.38294211275726 \\\\ 1.0, \\ 1.0, \\ 0.0 \\end{bmatrix} \\end{equation}$"
      ],
      "text/plain": [
       "<IPython.core.display.Latex object>"
      ]
     },
     "metadata": {},
     "output_type": "display_data"
    },
    {
     "data": {
      "text/latex": [
       "$\\begin{equation} T^{-1} = \\begin{bmatrix} 4.178718591551935, \\ 0.32768282076106514, \\ 0.5233764454994487 \\\\ -4.178718591551935, \\ -0.3276828207610649, \\ 0.476623554500551 \\\\ 0.5028726349458223, \\ -2.571926949855616, \\ 0.5960392048282263 \\end{bmatrix} \\end{equation}$"
      ],
      "text/plain": [
       "<IPython.core.display.Latex object>"
      ]
     },
     "metadata": {},
     "output_type": "display_data"
    },
    {
     "data": {
      "text/latex": [
       "$\\begin{equation} P = \\begin{bmatrix} 10.048809399827414, \\ -25.62959144707665, \\ 15.580782047249254 \\\\ -1.38214273316075, \\ 10.29625811374331, \\ -8.914115380582556 \\\\ 0.3333333333333328, \\ -2.6666666666666616, \\ 3.333333333333328 \\end{bmatrix} \\end{equation}$"
      ],
      "text/plain": [
       "<IPython.core.display.Latex object>"
      ]
     },
     "metadata": {},
     "output_type": "display_data"
    }
   ],
   "source": [
    "\n",
    "$\\begin{equation} A  = \\begin{bmatrix} 0.19681547722366058, \\ -0.06553542585019845, \\ 0.023770974348220134, \\\\ 0.39442431473908746, \\ 0.29207341166522777, \\ -0.04154875212599763, \\\\ 0.376403062700466, \\ 0.512485826188424, \\ 0.111111111111110 \\end{bmatrix} \\end{equation}$\n",
    "\n",
    "$\\begin{equation} B = \\begin{bmatrix} 0.376403062700466, \\ 0.512485826188424, \\ 0.111111111111110  \\end{bmatrix} \\end{equation}$\n",
    "\n",
    "$\\begin{equation} C = \\begin{bmatrix} 0.15505102572168228, \\ 0.6449489742783174, \\ 1.0 \\end{bmatrix} \\end{equation}$\n",
    "\n",
    "$\\begin{equation} A^{-1} = \\begin{bmatrix} 3.22474487139158, \\ 1.16784008469041, \\ -0.253197264742181 \\\\ -3.56784008469039, \\ 0.775255128608406, \\ 1.05319726474218 \\\\ 5.53197264742194, \\ -7.53197264742187, \\ 5.00000000000001 \\end{bmatrix} \\end{equation}$\n",
    "\n",
    "$\\begin{equation} T = \\begin{bmatrix} 0.0944387624889745, \\ -0.141255295020953, \\ 0.0300291941051473 \\\\ 0.250213122965334, \\ 0.204129352293798, \\ -0.38294211275726 \\\\ 1.0, \\ 1.0, \\ 0.0 \\end{bmatrix} \\end{equation}$\n",
    "\n",
    "$\\begin{equation} T^{-1} = \\begin{bmatrix} 4.178718591551935, \\ 0.32768282076106514, \\ 0.5233764454994487 \\\\ -4.178718591551935, \\ -0.3276828207610649, \\ 0.476623554500551 \\\\ 0.5028726349458223, \\ -2.571926949855616, \\ 0.5960392048282263 \\end{bmatrix} \\end{equation}$\n",
    "\n",
    "$\\begin{equation} P = \\begin{bmatrix} 10.048809399827414, \\ -25.62959144707665, \\ 15.580782047249254 \\\\ -1.38214273316075, \\ 10.29625811374331, \\ -8.914115380582556 \\\\ 0.3333333333333328, \\ -2.6666666666666616, \\ 3.333333333333328 \\end{bmatrix} \\end{equation}$\n",
    "       \n",
    "\n"
   ]
  },
  {
   "cell_type": "code",
   "execution_count": null,
   "metadata": {},
   "outputs": [],
   "source": []
  }
 ],
 "metadata": {
  "kernelspec": {
   "display_name": "Python 3",
   "language": "python",
   "name": "python3"
  },
  "language_info": {
   "codemirror_mode": {
    "name": "ipython",
    "version": 3
   },
   "file_extension": ".py",
   "mimetype": "text/x-python",
   "name": "python",
   "nbconvert_exporter": "python",
   "pygments_lexer": "ipython3",
   "version": "3.7.6"
  }
 },
 "nbformat": 4,
 "nbformat_minor": 4
}
